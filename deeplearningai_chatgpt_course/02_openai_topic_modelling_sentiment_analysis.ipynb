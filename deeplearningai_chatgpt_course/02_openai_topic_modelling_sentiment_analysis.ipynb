{
 "cells": [
  {
   "cell_type": "markdown",
   "metadata": {},
   "source": [
    "---\n",
    "### The main objective is to experiment with OpenAI API  for sentiment and topic modelling anlysis.\n",
    "1. For each Google Review from our sample dataset we will detect sentiment\n",
    "2. Generrate topic for each review. \n",
    "3. **Aggregating topics and sentiments:** Both topics and sentiments are tightly coupled with reviews. We will be aggregating topics and sentiments at clinic level and count the composite keys for each clinic. This final step helps us better understand the granularity of the reviews per clinic and categorizing clinics per topic in an aggregated manner.\n",
    "\n",
    "\n",
    "---"
   ]
  },
  {
   "cell_type": "code",
   "execution_count": 49,
   "metadata": {},
   "outputs": [],
   "source": [
    "import openai\n",
    "import os\n",
    "import pandas as pd\n",
    "from tqdm import tqdm"
   ]
  },
  {
   "cell_type": "code",
   "execution_count": 50,
   "metadata": {},
   "outputs": [],
   "source": [
    "api_key = os.getenv('gpt_api')"
   ]
  },
  {
   "cell_type": "code",
   "execution_count": 51,
   "metadata": {},
   "outputs": [],
   "source": [
    "openai.api_key=api_key"
   ]
  },
  {
   "cell_type": "code",
   "execution_count": 52,
   "metadata": {},
   "outputs": [],
   "source": [
    "# helper function\n",
    "def get_completion(promt, model='gpt-3.5-turbo'):\n",
    "    messages =[{\"role\":\"user\",\"content\":promt}]\n",
    "    response = openai.ChatCompletion.create(\n",
    "        model=model,\n",
    "        messages = messages,\n",
    "        temperature = 0\n",
    "    )\n",
    "    \n",
    "    return response.choices[0].message[\"content\"]"
   ]
  },
  {
   "cell_type": "markdown",
   "metadata": {},
   "source": [
    "#### Sentiment Analysis test promts:"
   ]
  },
  {
   "cell_type": "code",
   "execution_count": 11,
   "metadata": {},
   "outputs": [],
   "source": [
    "review = \"\"\"\n",
    "        Thank you all the nurses in duty in ward 921..Since \\\n",
    "        the 1st day of my hospitalised 14Apr-17Apr was attended \\\n",
    "        with patient and courteous, helpful,friendly, caring and \\\n",
    "        attend to my needs fast…Really Appreciated… \\\n",
    "        I would like to compliment on their good job. Thumbs up\n",
    "\"\"\""
   ]
  },
  {
   "cell_type": "code",
   "execution_count": 15,
   "metadata": {},
   "outputs": [
    {
     "name": "stdout",
     "output_type": "stream",
     "text": [
      "Positive\n"
     ]
    }
   ],
   "source": [
    "promt = f\"\"\"\n",
    "What is the sentiment of the following product review.\n",
    "return only one word that indicate the sentiment.\n",
    "Review text : '''{review}'''\n",
    "\"\"\"\n",
    "response = get_completion(promt)\n",
    "print(response)"
   ]
  },
  {
   "cell_type": "code",
   "execution_count": 13,
   "metadata": {},
   "outputs": [
    {
     "name": "stdout",
     "output_type": "stream",
     "text": [
      "appreciative, grateful, impressed, satisfied, content\n"
     ]
    }
   ],
   "source": [
    "promt_emotion = f\"\"\"\n",
    "Identify a list of emotions that the writer of the following review is expressing. \\\n",
    "Include no more than  five items in the list. \\\n",
    "Format your answer as a list of lower-case words separated by comas.\n",
    "Review text : '''{review}'''\n",
    "\"\"\"\n",
    "response = get_completion(promt_emotion)\n",
    "print(response)"
   ]
  },
  {
   "cell_type": "markdown",
   "metadata": {},
   "source": [
    "#### Sentiment Analysis for Raffles Clinic Reviews:"
   ]
  },
  {
   "cell_type": "code",
   "execution_count": 8,
   "metadata": {},
   "outputs": [],
   "source": [
    "df_reviews = pd.read_csv(\"data/raffles_top5_reviews.csv\")"
   ]
  },
  {
   "cell_type": "code",
   "execution_count": 9,
   "metadata": {},
   "outputs": [
    {
     "data": {
      "text/html": [
       "<div>\n",
       "<style scoped>\n",
       "    .dataframe tbody tr th:only-of-type {\n",
       "        vertical-align: middle;\n",
       "    }\n",
       "\n",
       "    .dataframe tbody tr th {\n",
       "        vertical-align: top;\n",
       "    }\n",
       "\n",
       "    .dataframe thead th {\n",
       "        text-align: right;\n",
       "    }\n",
       "</style>\n",
       "<table border=\"1\" class=\"dataframe\">\n",
       "  <thead>\n",
       "    <tr style=\"text-align: right;\">\n",
       "      <th></th>\n",
       "      <th>place_id</th>\n",
       "      <th>reviews</th>\n",
       "      <th>lat</th>\n",
       "      <th>lng</th>\n",
       "    </tr>\n",
       "  </thead>\n",
       "  <tbody>\n",
       "    <tr>\n",
       "      <th>0</th>\n",
       "      <td>ChIJbZHV_a892jERNhrm-bgNZXE</td>\n",
       "      <td>The staff is very kind and patient. Unfortunat...</td>\n",
       "      <td>1.372692</td>\n",
       "      <td>103.94959</td>\n",
       "    </tr>\n",
       "    <tr>\n",
       "      <th>1</th>\n",
       "      <td>ChIJbZHV_a892jERNhrm-bgNZXE</td>\n",
       "      <td>Tested positive for dengue, and the first two ...</td>\n",
       "      <td>1.372692</td>\n",
       "      <td>103.94959</td>\n",
       "    </tr>\n",
       "    <tr>\n",
       "      <th>2</th>\n",
       "      <td>ChIJbZHV_a892jERNhrm-bgNZXE</td>\n",
       "      <td>I wasn't very impressed with the doctor during...</td>\n",
       "      <td>1.372692</td>\n",
       "      <td>103.94959</td>\n",
       "    </tr>\n",
       "    <tr>\n",
       "      <th>3</th>\n",
       "      <td>ChIJbZHV_a892jERNhrm-bgNZXE</td>\n",
       "      <td>I called to only ask if I can get a medicine b...</td>\n",
       "      <td>1.372692</td>\n",
       "      <td>103.94959</td>\n",
       "    </tr>\n",
       "    <tr>\n",
       "      <th>4</th>\n",
       "      <td>ChIJbZHV_a892jERNhrm-bgNZXE</td>\n",
       "      <td>I wanted to scan for registration but the staf...</td>\n",
       "      <td>1.372692</td>\n",
       "      <td>103.94959</td>\n",
       "    </tr>\n",
       "  </tbody>\n",
       "</table>\n",
       "</div>"
      ],
      "text/plain": [
       "                      place_id  \\\n",
       "0  ChIJbZHV_a892jERNhrm-bgNZXE   \n",
       "1  ChIJbZHV_a892jERNhrm-bgNZXE   \n",
       "2  ChIJbZHV_a892jERNhrm-bgNZXE   \n",
       "3  ChIJbZHV_a892jERNhrm-bgNZXE   \n",
       "4  ChIJbZHV_a892jERNhrm-bgNZXE   \n",
       "\n",
       "                                             reviews       lat        lng  \n",
       "0  The staff is very kind and patient. Unfortunat...  1.372692  103.94959  \n",
       "1  Tested positive for dengue, and the first two ...  1.372692  103.94959  \n",
       "2  I wasn't very impressed with the doctor during...  1.372692  103.94959  \n",
       "3  I called to only ask if I can get a medicine b...  1.372692  103.94959  \n",
       "4  I wanted to scan for registration but the staf...  1.372692  103.94959  "
      ]
     },
     "execution_count": 9,
     "metadata": {},
     "output_type": "execute_result"
    }
   ],
   "source": [
    "df_reviews.head()"
   ]
  },
  {
   "cell_type": "markdown",
   "metadata": {},
   "source": [
    "Iterating over every review:"
   ]
  },
  {
   "cell_type": "code",
   "execution_count": 21,
   "metadata": {},
   "outputs": [
    {
     "name": "stderr",
     "output_type": "stream",
     "text": [
      "100%|██████████| 87/87 [01:31<00:00,  1.05s/it]\n"
     ]
    }
   ],
   "source": [
    "sentiment_res = []\n",
    "for review in tqdm(df_reviews.reviews.to_list()):\n",
    "    promt_i = f\"\"\"\n",
    "            What is the sentiment of the following product review.\n",
    "            return only one word that indicate the sentiment.\n",
    "            Review text : '''{review}'''\n",
    "            \"\"\"\n",
    "    response_i = get_completion(promt_i)\n",
    "    sentiment_res.append(response_i)\n",
    "    "
   ]
  },
  {
   "cell_type": "code",
   "execution_count": 36,
   "metadata": {},
   "outputs": [
    {
     "data": {
      "text/plain": [
       "87"
      ]
     },
     "execution_count": 36,
     "metadata": {},
     "output_type": "execute_result"
    }
   ],
   "source": [
    "len(sentiment_res)"
   ]
  },
  {
   "cell_type": "code",
   "execution_count": 42,
   "metadata": {},
   "outputs": [],
   "source": [
    "sentiment_res_processed = [val.lower() for val in sentiment_res]\n",
    "sentiment_res_processed = [val.replace('.','') for val in sentiment_res_processed]"
   ]
  },
  {
   "cell_type": "code",
   "execution_count": 45,
   "metadata": {},
   "outputs": [
    {
     "data": {
      "text/html": [
       "<div>\n",
       "<style scoped>\n",
       "    .dataframe tbody tr th:only-of-type {\n",
       "        vertical-align: middle;\n",
       "    }\n",
       "\n",
       "    .dataframe tbody tr th {\n",
       "        vertical-align: top;\n",
       "    }\n",
       "\n",
       "    .dataframe thead th {\n",
       "        text-align: right;\n",
       "    }\n",
       "</style>\n",
       "<table border=\"1\" class=\"dataframe\">\n",
       "  <thead>\n",
       "    <tr style=\"text-align: right;\">\n",
       "      <th></th>\n",
       "      <th>place_id</th>\n",
       "      <th>reviews</th>\n",
       "      <th>lat</th>\n",
       "      <th>lng</th>\n",
       "      <th>sentiment</th>\n",
       "    </tr>\n",
       "  </thead>\n",
       "  <tbody>\n",
       "    <tr>\n",
       "      <th>0</th>\n",
       "      <td>ChIJbZHV_a892jERNhrm-bgNZXE</td>\n",
       "      <td>The staff is very kind and patient. Unfortunat...</td>\n",
       "      <td>1.372692</td>\n",
       "      <td>103.94959</td>\n",
       "      <td>neutral</td>\n",
       "    </tr>\n",
       "    <tr>\n",
       "      <th>1</th>\n",
       "      <td>ChIJbZHV_a892jERNhrm-bgNZXE</td>\n",
       "      <td>Tested positive for dengue, and the first two ...</td>\n",
       "      <td>1.372692</td>\n",
       "      <td>103.94959</td>\n",
       "      <td>negative</td>\n",
       "    </tr>\n",
       "    <tr>\n",
       "      <th>2</th>\n",
       "      <td>ChIJbZHV_a892jERNhrm-bgNZXE</td>\n",
       "      <td>I wasn't very impressed with the doctor during...</td>\n",
       "      <td>1.372692</td>\n",
       "      <td>103.94959</td>\n",
       "      <td>negative</td>\n",
       "    </tr>\n",
       "    <tr>\n",
       "      <th>3</th>\n",
       "      <td>ChIJbZHV_a892jERNhrm-bgNZXE</td>\n",
       "      <td>I called to only ask if I can get a medicine b...</td>\n",
       "      <td>1.372692</td>\n",
       "      <td>103.94959</td>\n",
       "      <td>negative</td>\n",
       "    </tr>\n",
       "    <tr>\n",
       "      <th>4</th>\n",
       "      <td>ChIJbZHV_a892jERNhrm-bgNZXE</td>\n",
       "      <td>I wanted to scan for registration but the staf...</td>\n",
       "      <td>1.372692</td>\n",
       "      <td>103.94959</td>\n",
       "      <td>negative</td>\n",
       "    </tr>\n",
       "  </tbody>\n",
       "</table>\n",
       "</div>"
      ],
      "text/plain": [
       "                      place_id  \\\n",
       "0  ChIJbZHV_a892jERNhrm-bgNZXE   \n",
       "1  ChIJbZHV_a892jERNhrm-bgNZXE   \n",
       "2  ChIJbZHV_a892jERNhrm-bgNZXE   \n",
       "3  ChIJbZHV_a892jERNhrm-bgNZXE   \n",
       "4  ChIJbZHV_a892jERNhrm-bgNZXE   \n",
       "\n",
       "                                             reviews       lat        lng  \\\n",
       "0  The staff is very kind and patient. Unfortunat...  1.372692  103.94959   \n",
       "1  Tested positive for dengue, and the first two ...  1.372692  103.94959   \n",
       "2  I wasn't very impressed with the doctor during...  1.372692  103.94959   \n",
       "3  I called to only ask if I can get a medicine b...  1.372692  103.94959   \n",
       "4  I wanted to scan for registration but the staf...  1.372692  103.94959   \n",
       "\n",
       "  sentiment  \n",
       "0   neutral  \n",
       "1  negative  \n",
       "2  negative  \n",
       "3  negative  \n",
       "4  negative  "
      ]
     },
     "execution_count": 45,
     "metadata": {},
     "output_type": "execute_result"
    }
   ],
   "source": [
    "df_reviews['sentiment'] = sentiment_res_processed\n",
    "df_reviews.head()"
   ]
  },
  {
   "cell_type": "code",
   "execution_count": 46,
   "metadata": {},
   "outputs": [
    {
     "data": {
      "text/plain": [
       "negative         51\n",
       "positive         25\n",
       "neutral           5\n",
       "horrible          2\n",
       "disgusted         1\n",
       "unpleasant        1\n",
       "abysmal           1\n",
       "disappointing     1\n",
       "Name: sentiment, dtype: int64"
      ]
     },
     "execution_count": 46,
     "metadata": {},
     "output_type": "execute_result"
    }
   ],
   "source": [
    "df_reviews.sentiment.value_counts()"
   ]
  },
  {
   "cell_type": "code",
   "execution_count": 48,
   "metadata": {},
   "outputs": [],
   "source": [
    "df_reviews.to_csv(\"data/raffles_top5_reviews_sentiments.csv\", index=False)"
   ]
  },
  {
   "cell_type": "markdown",
   "metadata": {},
   "source": [
    "---\n",
    "### Topic Moddeling:"
   ]
  },
  {
   "cell_type": "code",
   "execution_count": 53,
   "metadata": {},
   "outputs": [],
   "source": [
    "df_reviews = pd.read_csv(\"data/raffles_top5_reviews_sentiments.csv\")"
   ]
  },
  {
   "cell_type": "code",
   "execution_count": 55,
   "metadata": {},
   "outputs": [
    {
     "data": {
      "text/html": [
       "<div>\n",
       "<style scoped>\n",
       "    .dataframe tbody tr th:only-of-type {\n",
       "        vertical-align: middle;\n",
       "    }\n",
       "\n",
       "    .dataframe tbody tr th {\n",
       "        vertical-align: top;\n",
       "    }\n",
       "\n",
       "    .dataframe thead th {\n",
       "        text-align: right;\n",
       "    }\n",
       "</style>\n",
       "<table border=\"1\" class=\"dataframe\">\n",
       "  <thead>\n",
       "    <tr style=\"text-align: right;\">\n",
       "      <th></th>\n",
       "      <th>place_id</th>\n",
       "      <th>reviews</th>\n",
       "      <th>lat</th>\n",
       "      <th>lng</th>\n",
       "      <th>sentiment</th>\n",
       "    </tr>\n",
       "  </thead>\n",
       "  <tbody>\n",
       "    <tr>\n",
       "      <th>0</th>\n",
       "      <td>ChIJbZHV_a892jERNhrm-bgNZXE</td>\n",
       "      <td>The staff is very kind and patient. Unfortunat...</td>\n",
       "      <td>1.372692</td>\n",
       "      <td>103.94959</td>\n",
       "      <td>neutral</td>\n",
       "    </tr>\n",
       "    <tr>\n",
       "      <th>1</th>\n",
       "      <td>ChIJbZHV_a892jERNhrm-bgNZXE</td>\n",
       "      <td>Tested positive for dengue, and the first two ...</td>\n",
       "      <td>1.372692</td>\n",
       "      <td>103.94959</td>\n",
       "      <td>negative</td>\n",
       "    </tr>\n",
       "    <tr>\n",
       "      <th>2</th>\n",
       "      <td>ChIJbZHV_a892jERNhrm-bgNZXE</td>\n",
       "      <td>I wasn't very impressed with the doctor during...</td>\n",
       "      <td>1.372692</td>\n",
       "      <td>103.94959</td>\n",
       "      <td>negative</td>\n",
       "    </tr>\n",
       "  </tbody>\n",
       "</table>\n",
       "</div>"
      ],
      "text/plain": [
       "                      place_id  \\\n",
       "0  ChIJbZHV_a892jERNhrm-bgNZXE   \n",
       "1  ChIJbZHV_a892jERNhrm-bgNZXE   \n",
       "2  ChIJbZHV_a892jERNhrm-bgNZXE   \n",
       "\n",
       "                                             reviews       lat        lng  \\\n",
       "0  The staff is very kind and patient. Unfortunat...  1.372692  103.94959   \n",
       "1  Tested positive for dengue, and the first two ...  1.372692  103.94959   \n",
       "2  I wasn't very impressed with the doctor during...  1.372692  103.94959   \n",
       "\n",
       "  sentiment  \n",
       "0   neutral  \n",
       "1  negative  \n",
       "2  negative  "
      ]
     },
     "execution_count": 55,
     "metadata": {},
     "output_type": "execute_result"
    }
   ],
   "source": [
    "df_reviews.head(3)"
   ]
  },
  {
   "cell_type": "code",
   "execution_count": 86,
   "metadata": {},
   "outputs": [],
   "source": [
    "df_reviews.reviews = df_reviews.reviews.astype(str)\n",
    "all_reviews_text_part1 = ' '.join(df_reviews.reviews.to_list()[:44])\n",
    "all_reviews_text_part2 = ' '.join(df_reviews.reviews.to_list()[44:80])\n"
   ]
  },
  {
   "cell_type": "code",
   "execution_count": 87,
   "metadata": {},
   "outputs": [
    {
     "data": {
      "text/plain": [
       "17532"
      ]
     },
     "execution_count": 87,
     "metadata": {},
     "output_type": "execute_result"
    }
   ],
   "source": [
    "len(all_reviews_text_part1)"
   ]
  },
  {
   "cell_type": "code",
   "execution_count": 88,
   "metadata": {},
   "outputs": [
    {
     "data": {
      "text/plain": [
       "87"
      ]
     },
     "execution_count": 88,
     "metadata": {},
     "output_type": "execute_result"
    }
   ],
   "source": [
    "len(df_reviews.reviews.to_list())"
   ]
  },
  {
   "cell_type": "markdown",
   "metadata": {},
   "source": [
    "### Topic modelinng model's has maximum context length \n",
    "1. This context length is 4097 tokens (gpt-3.5-turbo). Therefore I will split all reviews into two batches and call api to get topics separetly for each batch. Then I manually review the topics, some topics might be very similar to each other ( \"Long queue/wait time\" and \"Long wait times\"). Then I will manually compile a list of relevant topics. Finally for each review we will call api to loop through each topic and verify if a topic is in a review. "
   ]
  },
  {
   "cell_type": "code",
   "execution_count": 89,
   "metadata": {},
   "outputs": [
    {
     "name": "stdout",
     "output_type": "stream",
     "text": [
      "1. Staff kindness and patience\n",
      "2. Long queue/wait time\n",
      "3. Health screening/check-up\n",
      "4. Positive dengue test\n",
      "5. Doctor and receptionist behavior\n",
      "6. Evening consults\n",
      "7. Rude customer service\n",
      "8. Personal information privacy\n",
      "9. Service quality decline\n",
      "10. Dental treatment\n",
      "11. Antibiotics prescription\n",
      "12. Understaffing and long wait times\n"
     ]
    },
    {
     "data": {
      "text/plain": [
       "['1. Staff kindness and patience\\n2. Long queue/wait time\\n3. Health screening/check-up\\n4. Positive dengue test\\n5. Doctor and receptionist behavior\\n6. Evening consults\\n7. Rude customer service\\n8. Personal information privacy\\n9. Service quality decline\\n10. Dental treatment\\n11. Antibiotics prescription\\n12. Understaffing and long wait times']"
      ]
     },
     "execution_count": 89,
     "metadata": {},
     "output_type": "execute_result"
    }
   ],
   "source": [
    "prompt = f\"\"\"\n",
    "Determine 12 topics that are being discussed in the \\\n",
    "following text, which is delimited by triple backticks.\n",
    "\n",
    "Make each item one or two words long.\n",
    "\n",
    "Format your response as a list of items separated by commas.\n",
    "\n",
    "Text sample: '''{all_reviews_text_part1}'''\n",
    "\"\"\"\n",
    "response = get_completion(prompt)\n",
    "print(response)\n",
    "response.split(sep=',')"
   ]
  },
  {
   "cell_type": "code",
   "execution_count": 90,
   "metadata": {},
   "outputs": [
    {
     "name": "stdout",
     "output_type": "stream",
     "text": [
      "1. Lack of doctors at Raffles Medical Changi T3\n",
      "2. Unpleasant experience with flu vaccination appointment\n",
      "3. Inefficient registration process\n",
      "4. Long wait times\n",
      "5. Slow medication dispensing\n",
      "6. Rude staff\n",
      "7. Inexperienced staff at the counter\n",
      "8. Issues with online appointment system\n",
      "9. Misdiagnosis\n",
      "10. Positive experiences with certain doctors\n",
      "11. Lack of phone call response\n",
      "12. Varying wait times and experiences at different Raffles Medical clinics\n"
     ]
    },
    {
     "data": {
      "text/plain": [
       "['1. Lack of doctors at Raffles Medical Changi T3\\n2. Unpleasant experience with flu vaccination appointment\\n3. Inefficient registration process\\n4. Long wait times\\n5. Slow medication dispensing\\n6. Rude staff\\n7. Inexperienced staff at the counter\\n8. Issues with online appointment system\\n9. Misdiagnosis\\n10. Positive experiences with certain doctors\\n11. Lack of phone call response\\n12. Varying wait times and experiences at different Raffles Medical clinics']"
      ]
     },
     "execution_count": 90,
     "metadata": {},
     "output_type": "execute_result"
    }
   ],
   "source": [
    "prompt = f\"\"\"\n",
    "Determine 12 topics that are being discussed in the \\\n",
    "following text, which is delimited by triple backticks.\n",
    "\n",
    "Make each item one or two words long.\n",
    "\n",
    "Format your response as a list of items separated by commas.\n",
    "\n",
    "Text sample: '''{all_reviews_text_part2}'''\n",
    "\"\"\"\n",
    "response = get_completion(prompt)\n",
    "print(response)\n",
    "response.split(sep=',')"
   ]
  },
  {
   "cell_type": "code",
   "execution_count": 91,
   "metadata": {},
   "outputs": [],
   "source": [
    "# Compile Topics list:\n",
    "topics = [\n",
    "         \"Long queue/wait time\",\n",
    "          \"Doctor/Staff/Receptionist behavior\",\n",
    "          \"Rude Customer service\",\n",
    "          \"Misdiagnosis\",\n",
    "          \"vaccination\",\n",
    "          \"Dental treatment\",\n",
    "          \"Health screening/check-up\",\n",
    "          \"Service quality\"\n",
    "         ]"
   ]
  },
  {
   "cell_type": "code",
   "execution_count": 93,
   "metadata": {},
   "outputs": [],
   "source": [
    "review_i = df_reviews.reviews.to_list()[0]\n",
    "prompt = f\"\"\" Determine whether each item in the following list of \\\n",
    "topics is a topic in the text below, which\n",
    "is delimited with triple backticks.\n",
    "Give your answer as list with 0 or 1 for each topic.\\\n",
    "List of topics: '''{\", \".join(topics)}'''\n",
    "Text sample: '''{review_i}''' \n",
    "\"\"\"\n"
   ]
  },
  {
   "cell_type": "code",
   "execution_count": 94,
   "metadata": {},
   "outputs": [
    {
     "name": "stdout",
     "output_type": "stream",
     "text": [
      "[1, 0, 0, 0, 0, 0, 1, 0]\n"
     ]
    }
   ],
   "source": [
    "response = get_completion(prompt)\n",
    "print(response)"
   ]
  },
  {
   "cell_type": "code",
   "execution_count": 101,
   "metadata": {},
   "outputs": [
    {
     "name": "stderr",
     "output_type": "stream",
     "text": [
      "100%|██████████| 87/87 [04:45<00:00,  3.28s/it]\n"
     ]
    }
   ],
   "source": [
    "list_topics = []\n",
    "topics_str = \", \".join(topics)\n",
    "for review in tqdm(df_reviews.reviews.to_list()):\n",
    "    promt_i = f\"\"\"\n",
    "            Determine whether each item in the following list of \\\n",
    "            topics is a topic in the text below, which\n",
    "            is delimited with triple backticks.\n",
    "\n",
    "            Give your answer as list with 0 or 1 for each topic.\\\n",
    "\n",
    "            List of topics: '''{topics_str}'''\n",
    "            Text sample: '''{review}'''\n",
    "            \"\"\"\n",
    "    response_i = get_completion(promt_i)\n",
    "    list_topics.append(response_i)"
   ]
  },
  {
   "cell_type": "code",
   "execution_count": 103,
   "metadata": {},
   "outputs": [
    {
     "data": {
      "text/plain": [
       "87"
      ]
     },
     "execution_count": 103,
     "metadata": {},
     "output_type": "execute_result"
    }
   ],
   "source": [
    "len(list_topics)"
   ]
  },
  {
   "cell_type": "code",
   "execution_count": 102,
   "metadata": {},
   "outputs": [
    {
     "data": {
      "text/plain": [
       "['[1, 0, 0, 0, 0, 0, 1, 1]',\n",
       " '[1, 1, 1, 0, 0, 0, 0, 1]',\n",
       " 'Long queue/wait time: 1\\nDoctor/Staff/Receptionist behavior: 1\\nRude Customer service: 0\\nMisdiagnosis: 1\\nVaccination: 0\\nDental treatment: 0\\nHealth screening/check-up: 0\\nService quality: 1',\n",
       " '[1, 1, 1, 0, 0, 0, 0, 1]',\n",
       " 'Long queue/wait time: 0\\nDoctor/Staff/Receptionist behavior: 1\\nRude Customer service: 0\\nMisdiagnosis: 0\\nVaccination: 0\\nDental treatment: 0\\nHealth screening/check-up: 0\\nService quality: 0']"
      ]
     },
     "execution_count": 102,
     "metadata": {},
     "output_type": "execute_result"
    }
   ],
   "source": [
    "list_topics[:5]"
   ]
  },
  {
   "cell_type": "code",
   "execution_count": 116,
   "metadata": {},
   "outputs": [],
   "source": [
    "# the responce format varies.\n",
    "# extract digits only and separete with coma:\n",
    "\n",
    "list_topics_int = []\n",
    "for val in list_topics:\n",
    "    val = val.replace('[','')\n",
    "    val = val.replace(']','')\n",
    "    val = val.replace(',','')\n",
    "    num_ids = [int(x) for x in val.split() if x.isdigit()] \n",
    "    if len(num_ids)==1:\n",
    "        num_ids=[0]*8\n",
    "        list_topics_int.append(num_ids)\n",
    "    else :\n",
    "        list_topics_int.append(num_ids)"
   ]
  },
  {
   "cell_type": "code",
   "execution_count": 118,
   "metadata": {},
   "outputs": [
    {
     "data": {
      "text/plain": [
       "[[1, 0, 0, 0, 0, 0, 1, 1],\n",
       " [1, 1, 1, 0, 0, 0, 0, 1],\n",
       " [1, 1, 0, 1, 0, 0, 0, 1],\n",
       " [1, 1, 1, 0, 0, 0, 0, 1],\n",
       " [0, 1, 0, 0, 0, 0, 0, 0],\n",
       " [1, 1, 1, 0, 0, 0, 0, 1],\n",
       " [0, 1, 0, 0, 0, 0, 0, 1],\n",
       " [0, 1, 1, 0, 0, 0, 0, 1],\n",
       " [0, 1, 0, 0, 0, 0, 1, 1],\n",
       " [1, 1, 1, 0, 0, 0, 0, 1]]"
      ]
     },
     "execution_count": 118,
     "metadata": {},
     "output_type": "execute_result"
    }
   ],
   "source": [
    "list_topics_int[:10]"
   ]
  },
  {
   "cell_type": "markdown",
   "metadata": {},
   "source": [
    "#### Aggregate topics and sentiments on clinics level"
   ]
  },
  {
   "cell_type": "code",
   "execution_count": 131,
   "metadata": {},
   "outputs": [
    {
     "data": {
      "text/html": [
       "<div>\n",
       "<style scoped>\n",
       "    .dataframe tbody tr th:only-of-type {\n",
       "        vertical-align: middle;\n",
       "    }\n",
       "\n",
       "    .dataframe tbody tr th {\n",
       "        vertical-align: top;\n",
       "    }\n",
       "\n",
       "    .dataframe thead th {\n",
       "        text-align: right;\n",
       "    }\n",
       "</style>\n",
       "<table border=\"1\" class=\"dataframe\">\n",
       "  <thead>\n",
       "    <tr style=\"text-align: right;\">\n",
       "      <th></th>\n",
       "      <th>place_id</th>\n",
       "      <th>reviews</th>\n",
       "      <th>lat</th>\n",
       "      <th>lng</th>\n",
       "      <th>sentiment</th>\n",
       "      <th>TopicSentiment</th>\n",
       "    </tr>\n",
       "  </thead>\n",
       "  <tbody>\n",
       "    <tr>\n",
       "      <th>0</th>\n",
       "      <td>ChIJbZHV_a892jERNhrm-bgNZXE</td>\n",
       "      <td>The staff is very kind and patient. Unfortunat...</td>\n",
       "      <td>1.372692</td>\n",
       "      <td>103.94959</td>\n",
       "      <td>neutral</td>\n",
       "      <td>[Long queue/wait time_neutral, Health screenin...</td>\n",
       "    </tr>\n",
       "    <tr>\n",
       "      <th>1</th>\n",
       "      <td>ChIJbZHV_a892jERNhrm-bgNZXE</td>\n",
       "      <td>Tested positive for dengue, and the first two ...</td>\n",
       "      <td>1.372692</td>\n",
       "      <td>103.94959</td>\n",
       "      <td>negative</td>\n",
       "      <td>[Long queue/wait time_negative, Doctor/Staff/R...</td>\n",
       "    </tr>\n",
       "    <tr>\n",
       "      <th>2</th>\n",
       "      <td>ChIJbZHV_a892jERNhrm-bgNZXE</td>\n",
       "      <td>I wasn't very impressed with the doctor during...</td>\n",
       "      <td>1.372692</td>\n",
       "      <td>103.94959</td>\n",
       "      <td>negative</td>\n",
       "      <td>[Long queue/wait time_negative, Doctor/Staff/R...</td>\n",
       "    </tr>\n",
       "  </tbody>\n",
       "</table>\n",
       "</div>"
      ],
      "text/plain": [
       "                      place_id  \\\n",
       "0  ChIJbZHV_a892jERNhrm-bgNZXE   \n",
       "1  ChIJbZHV_a892jERNhrm-bgNZXE   \n",
       "2  ChIJbZHV_a892jERNhrm-bgNZXE   \n",
       "\n",
       "                                             reviews       lat        lng  \\\n",
       "0  The staff is very kind and patient. Unfortunat...  1.372692  103.94959   \n",
       "1  Tested positive for dengue, and the first two ...  1.372692  103.94959   \n",
       "2  I wasn't very impressed with the doctor during...  1.372692  103.94959   \n",
       "\n",
       "  sentiment                                     TopicSentiment  \n",
       "0   neutral  [Long queue/wait time_neutral, Health screenin...  \n",
       "1  negative  [Long queue/wait time_negative, Doctor/Staff/R...  \n",
       "2  negative  [Long queue/wait time_negative, Doctor/Staff/R...  "
      ]
     },
     "execution_count": 131,
     "metadata": {},
     "output_type": "execute_result"
    }
   ],
   "source": [
    "# 1. Creating a composite key of topic name and sentiment.\n",
    "# This is because we are counting frequency of this combination.\n",
    "col_topics = list()\n",
    "review_sentiment = df_reviews.sentiment.to_list()\n",
    "for val, sentiment in zip(list_topics_int, review_sentiment):\n",
    "    topics_col = [str(topic_i)+\"_\"+str(sentiment) for topic_i, ids in zip(topics, val) if ids==1]\n",
    "    col_topics.append(topics_col)\n",
    "    \n",
    "df_reviews['TopicSentiment'] = col_topics\n",
    "df_reviews.head(3)"
   ]
  },
  {
   "cell_type": "code",
   "execution_count": 140,
   "metadata": {},
   "outputs": [],
   "source": [
    "# Create place id group\n",
    "place_id_DF = df_reviews.groupby('place_id').agg({'TopicSentiment': 'sum', 'reviews': lambda x: ' '.join(x)}).reset_index()"
   ]
  },
  {
   "cell_type": "code",
   "execution_count": 141,
   "metadata": {
    "scrolled": true
   },
   "outputs": [
    {
     "data": {
      "text/html": [
       "<div>\n",
       "<style scoped>\n",
       "    .dataframe tbody tr th:only-of-type {\n",
       "        vertical-align: middle;\n",
       "    }\n",
       "\n",
       "    .dataframe tbody tr th {\n",
       "        vertical-align: top;\n",
       "    }\n",
       "\n",
       "    .dataframe thead th {\n",
       "        text-align: right;\n",
       "    }\n",
       "</style>\n",
       "<table border=\"1\" class=\"dataframe\">\n",
       "  <thead>\n",
       "    <tr style=\"text-align: right;\">\n",
       "      <th></th>\n",
       "      <th>place_id</th>\n",
       "      <th>TopicSentiment</th>\n",
       "      <th>reviews</th>\n",
       "    </tr>\n",
       "  </thead>\n",
       "  <tbody>\n",
       "    <tr>\n",
       "      <th>0</th>\n",
       "      <td>ChIJDQ5i_q892jEREshja_0JOeU</td>\n",
       "      <td>[Doctor/Staff/Receptionist behavior_positive, ...</td>\n",
       "      <td>Came here twice. Staff at the dental side, if ...</td>\n",
       "    </tr>\n",
       "    <tr>\n",
       "      <th>1</th>\n",
       "      <td>ChIJL7ZNaFQ82jERG0nE6vQksRM</td>\n",
       "      <td>[Long queue/wait time_positive, Doctor/Staff/R...</td>\n",
       "      <td>Dr George is one of the best Dr that listened ...</td>\n",
       "    </tr>\n",
       "    <tr>\n",
       "      <th>2</th>\n",
       "      <td>ChIJL_NVReMV2jERUxYmGmVoKOQ</td>\n",
       "      <td>[Long queue/wait time_negative, Rude Customer ...</td>\n",
       "      <td>Their queue system sucks . Bottleneck is not r...</td>\n",
       "    </tr>\n",
       "    <tr>\n",
       "      <th>3</th>\n",
       "      <td>ChIJNbUBTyI92jERJ9Cx-rO_VPU</td>\n",
       "      <td>[Doctor/Staff/Receptionist behavior_positive, ...</td>\n",
       "      <td>I came for my vaccination and it was a breeze....</td>\n",
       "    </tr>\n",
       "    <tr>\n",
       "      <th>4</th>\n",
       "      <td>ChIJSetFSDYZ2jERvlUSx0ed-gQ</td>\n",
       "      <td>[Long queue/wait time_negative, Doctor/Staff/R...</td>\n",
       "      <td>I went to the clinic at 8:30 when it is suppos...</td>\n",
       "    </tr>\n",
       "  </tbody>\n",
       "</table>\n",
       "</div>"
      ],
      "text/plain": [
       "                      place_id  \\\n",
       "0  ChIJDQ5i_q892jEREshja_0JOeU   \n",
       "1  ChIJL7ZNaFQ82jERG0nE6vQksRM   \n",
       "2  ChIJL_NVReMV2jERUxYmGmVoKOQ   \n",
       "3  ChIJNbUBTyI92jERJ9Cx-rO_VPU   \n",
       "4  ChIJSetFSDYZ2jERvlUSx0ed-gQ   \n",
       "\n",
       "                                      TopicSentiment  \\\n",
       "0  [Doctor/Staff/Receptionist behavior_positive, ...   \n",
       "1  [Long queue/wait time_positive, Doctor/Staff/R...   \n",
       "2  [Long queue/wait time_negative, Rude Customer ...   \n",
       "3  [Doctor/Staff/Receptionist behavior_positive, ...   \n",
       "4  [Long queue/wait time_negative, Doctor/Staff/R...   \n",
       "\n",
       "                                             reviews  \n",
       "0  Came here twice. Staff at the dental side, if ...  \n",
       "1  Dr George is one of the best Dr that listened ...  \n",
       "2  Their queue system sucks . Bottleneck is not r...  \n",
       "3  I came for my vaccination and it was a breeze....  \n",
       "4  I went to the clinic at 8:30 when it is suppos...  "
      ]
     },
     "execution_count": 141,
     "metadata": {},
     "output_type": "execute_result"
    }
   ],
   "source": [
    "place_id_DF.head()"
   ]
  },
  {
   "cell_type": "code",
   "execution_count": 142,
   "metadata": {},
   "outputs": [
    {
     "data": {
      "text/html": [
       "<div>\n",
       "<style scoped>\n",
       "    .dataframe tbody tr th:only-of-type {\n",
       "        vertical-align: middle;\n",
       "    }\n",
       "\n",
       "    .dataframe tbody tr th {\n",
       "        vertical-align: top;\n",
       "    }\n",
       "\n",
       "    .dataframe thead th {\n",
       "        text-align: right;\n",
       "    }\n",
       "</style>\n",
       "<table border=\"1\" class=\"dataframe\">\n",
       "  <thead>\n",
       "    <tr style=\"text-align: right;\">\n",
       "      <th></th>\n",
       "      <th>place_id</th>\n",
       "      <th>TopicSentiment</th>\n",
       "      <th>reviews</th>\n",
       "      <th>TopTopics</th>\n",
       "    </tr>\n",
       "  </thead>\n",
       "  <tbody>\n",
       "    <tr>\n",
       "      <th>0</th>\n",
       "      <td>ChIJDQ5i_q892jEREshja_0JOeU</td>\n",
       "      <td>[Doctor/Staff/Receptionist behavior_positive, ...</td>\n",
       "      <td>Came here twice. Staff at the dental side, if ...</td>\n",
       "      <td>{'Doctor/Staff/Receptionist behavior_positive'...</td>\n",
       "    </tr>\n",
       "    <tr>\n",
       "      <th>1</th>\n",
       "      <td>ChIJL7ZNaFQ82jERG0nE6vQksRM</td>\n",
       "      <td>[Long queue/wait time_positive, Doctor/Staff/R...</td>\n",
       "      <td>Dr George is one of the best Dr that listened ...</td>\n",
       "      <td>{'Long queue/wait time_positive': 1, 'Doctor/S...</td>\n",
       "    </tr>\n",
       "    <tr>\n",
       "      <th>2</th>\n",
       "      <td>ChIJL_NVReMV2jERUxYmGmVoKOQ</td>\n",
       "      <td>[Long queue/wait time_negative, Rude Customer ...</td>\n",
       "      <td>Their queue system sucks . Bottleneck is not r...</td>\n",
       "      <td>{'Long queue/wait time_negative': 4, 'Rude Cus...</td>\n",
       "    </tr>\n",
       "    <tr>\n",
       "      <th>3</th>\n",
       "      <td>ChIJNbUBTyI92jERJ9Cx-rO_VPU</td>\n",
       "      <td>[Doctor/Staff/Receptionist behavior_positive, ...</td>\n",
       "      <td>I came for my vaccination and it was a breeze....</td>\n",
       "      <td>{'Doctor/Staff/Receptionist behavior_positive'...</td>\n",
       "    </tr>\n",
       "    <tr>\n",
       "      <th>4</th>\n",
       "      <td>ChIJSetFSDYZ2jERvlUSx0ed-gQ</td>\n",
       "      <td>[Long queue/wait time_negative, Doctor/Staff/R...</td>\n",
       "      <td>I went to the clinic at 8:30 when it is suppos...</td>\n",
       "      <td>{'Long queue/wait time_negative': 1, 'Doctor/S...</td>\n",
       "    </tr>\n",
       "  </tbody>\n",
       "</table>\n",
       "</div>"
      ],
      "text/plain": [
       "                      place_id  \\\n",
       "0  ChIJDQ5i_q892jEREshja_0JOeU   \n",
       "1  ChIJL7ZNaFQ82jERG0nE6vQksRM   \n",
       "2  ChIJL_NVReMV2jERUxYmGmVoKOQ   \n",
       "3  ChIJNbUBTyI92jERJ9Cx-rO_VPU   \n",
       "4  ChIJSetFSDYZ2jERvlUSx0ed-gQ   \n",
       "\n",
       "                                      TopicSentiment  \\\n",
       "0  [Doctor/Staff/Receptionist behavior_positive, ...   \n",
       "1  [Long queue/wait time_positive, Doctor/Staff/R...   \n",
       "2  [Long queue/wait time_negative, Rude Customer ...   \n",
       "3  [Doctor/Staff/Receptionist behavior_positive, ...   \n",
       "4  [Long queue/wait time_negative, Doctor/Staff/R...   \n",
       "\n",
       "                                             reviews  \\\n",
       "0  Came here twice. Staff at the dental side, if ...   \n",
       "1  Dr George is one of the best Dr that listened ...   \n",
       "2  Their queue system sucks . Bottleneck is not r...   \n",
       "3  I came for my vaccination and it was a breeze....   \n",
       "4  I went to the clinic at 8:30 when it is suppos...   \n",
       "\n",
       "                                           TopTopics  \n",
       "0  {'Doctor/Staff/Receptionist behavior_positive'...  \n",
       "1  {'Long queue/wait time_positive': 1, 'Doctor/S...  \n",
       "2  {'Long queue/wait time_negative': 4, 'Rude Cus...  \n",
       "3  {'Doctor/Staff/Receptionist behavior_positive'...  \n",
       "4  {'Long queue/wait time_negative': 1, 'Doctor/S...  "
      ]
     },
     "execution_count": 142,
     "metadata": {},
     "output_type": "execute_result"
    }
   ],
   "source": [
    "# Count appreances of topics-sentiment combo for product\n",
    "from collections import Counter\n",
    "\n",
    "place_id_DF['TopTopics'] = place_id_DF['TopicSentiment'].apply(Counter)\n",
    "place_id_DF.head()"
   ]
  },
  {
   "cell_type": "code",
   "execution_count": 144,
   "metadata": {},
   "outputs": [
    {
     "data": {
      "text/html": [
       "<div>\n",
       "<style scoped>\n",
       "    .dataframe tbody tr th:only-of-type {\n",
       "        vertical-align: middle;\n",
       "    }\n",
       "\n",
       "    .dataframe tbody tr th {\n",
       "        vertical-align: top;\n",
       "    }\n",
       "\n",
       "    .dataframe thead th {\n",
       "        text-align: right;\n",
       "    }\n",
       "</style>\n",
       "<table border=\"1\" class=\"dataframe\">\n",
       "  <thead>\n",
       "    <tr style=\"text-align: right;\">\n",
       "      <th></th>\n",
       "      <th>place_id</th>\n",
       "      <th>TopicSentiment</th>\n",
       "      <th>reviews</th>\n",
       "      <th>TopTopics</th>\n",
       "    </tr>\n",
       "  </thead>\n",
       "  <tbody>\n",
       "    <tr>\n",
       "      <th>0</th>\n",
       "      <td>ChIJDQ5i_q892jEREshja_0JOeU</td>\n",
       "      <td>[Doctor/Staff/Receptionist behavior_positive, ...</td>\n",
       "      <td>Came here twice. Staff at the dental side, if ...</td>\n",
       "      <td>[Doctor/Staff/Receptionist behavior_positive, ...</td>\n",
       "    </tr>\n",
       "    <tr>\n",
       "      <th>1</th>\n",
       "      <td>ChIJL7ZNaFQ82jERG0nE6vQksRM</td>\n",
       "      <td>[Long queue/wait time_positive, Doctor/Staff/R...</td>\n",
       "      <td>Dr George is one of the best Dr that listened ...</td>\n",
       "      <td>[Doctor/Staff/Receptionist behavior_positive, ...</td>\n",
       "    </tr>\n",
       "    <tr>\n",
       "      <th>2</th>\n",
       "      <td>ChIJL_NVReMV2jERUxYmGmVoKOQ</td>\n",
       "      <td>[Long queue/wait time_negative, Rude Customer ...</td>\n",
       "      <td>Their queue system sucks . Bottleneck is not r...</td>\n",
       "      <td>[Long queue/wait time_negative, Service qualit...</td>\n",
       "    </tr>\n",
       "    <tr>\n",
       "      <th>3</th>\n",
       "      <td>ChIJNbUBTyI92jERJ9Cx-rO_VPU</td>\n",
       "      <td>[Doctor/Staff/Receptionist behavior_positive, ...</td>\n",
       "      <td>I came for my vaccination and it was a breeze....</td>\n",
       "      <td>[Doctor/Staff/Receptionist behavior_positive, ...</td>\n",
       "    </tr>\n",
       "    <tr>\n",
       "      <th>4</th>\n",
       "      <td>ChIJSetFSDYZ2jERvlUSx0ed-gQ</td>\n",
       "      <td>[Long queue/wait time_negative, Doctor/Staff/R...</td>\n",
       "      <td>I went to the clinic at 8:30 when it is suppos...</td>\n",
       "      <td>[Long queue/wait time_positive, Service qualit...</td>\n",
       "    </tr>\n",
       "  </tbody>\n",
       "</table>\n",
       "</div>"
      ],
      "text/plain": [
       "                      place_id  \\\n",
       "0  ChIJDQ5i_q892jEREshja_0JOeU   \n",
       "1  ChIJL7ZNaFQ82jERG0nE6vQksRM   \n",
       "2  ChIJL_NVReMV2jERUxYmGmVoKOQ   \n",
       "3  ChIJNbUBTyI92jERJ9Cx-rO_VPU   \n",
       "4  ChIJSetFSDYZ2jERvlUSx0ed-gQ   \n",
       "\n",
       "                                      TopicSentiment  \\\n",
       "0  [Doctor/Staff/Receptionist behavior_positive, ...   \n",
       "1  [Long queue/wait time_positive, Doctor/Staff/R...   \n",
       "2  [Long queue/wait time_negative, Rude Customer ...   \n",
       "3  [Doctor/Staff/Receptionist behavior_positive, ...   \n",
       "4  [Long queue/wait time_negative, Doctor/Staff/R...   \n",
       "\n",
       "                                             reviews  \\\n",
       "0  Came here twice. Staff at the dental side, if ...   \n",
       "1  Dr George is one of the best Dr that listened ...   \n",
       "2  Their queue system sucks . Bottleneck is not r...   \n",
       "3  I came for my vaccination and it was a breeze....   \n",
       "4  I went to the clinic at 8:30 when it is suppos...   \n",
       "\n",
       "                                           TopTopics  \n",
       "0  [Doctor/Staff/Receptionist behavior_positive, ...  \n",
       "1  [Doctor/Staff/Receptionist behavior_positive, ...  \n",
       "2  [Long queue/wait time_negative, Service qualit...  \n",
       "3  [Doctor/Staff/Receptionist behavior_positive, ...  \n",
       "4  [Long queue/wait time_positive, Service qualit...  "
      ]
     },
     "execution_count": 144,
     "metadata": {},
     "output_type": "execute_result"
    }
   ],
   "source": [
    "TOP_TOPICS=3\n",
    "# Sorting topics-sentiment combo based on their appearance\n",
    "place_id_DF['TopTopics'] = place_id_DF['TopTopics'].apply(lambda x: sorted(x, key=x.get, reverse=True))\n",
    "\n",
    "# Select Top k topics-sentiment combo for each product/review\n",
    "place_id_DF['TopTopics'] = place_id_DF['TopTopics'].apply(lambda x: x[:TOP_TOPICS])\n",
    "\n",
    "# Sneak peek\n",
    "place_id_DF.head()"
   ]
  },
  {
   "cell_type": "code",
   "execution_count": 146,
   "metadata": {},
   "outputs": [
    {
     "name": "stdout",
     "output_type": "stream",
     "text": [
      "QUESTION: ChIJDQ5i_q892jEREshja_0JOeU\n",
      "TOPICS:\n",
      "Doctor/Staff/Receptionist behavior_positive\n",
      "Dental treatment_positive\n",
      "Service quality_positive\n",
      "---\n",
      "QUESTION: ChIJL7ZNaFQ82jERG0nE6vQksRM\n",
      "TOPICS:\n",
      "Doctor/Staff/Receptionist behavior_positive\n",
      "Service quality_positive\n",
      "Long queue/wait time_positive\n",
      "---\n",
      "QUESTION: ChIJL_NVReMV2jERUxYmGmVoKOQ\n",
      "TOPICS:\n",
      "Long queue/wait time_negative\n",
      "Service quality_negative\n",
      "Rude Customer service_negative\n",
      "---\n",
      "QUESTION: ChIJNbUBTyI92jERJ9Cx-rO_VPU\n",
      "TOPICS:\n",
      "Doctor/Staff/Receptionist behavior_positive\n",
      "Service quality_positive\n",
      "vaccination_positive\n",
      "---\n",
      "QUESTION: ChIJSetFSDYZ2jERvlUSx0ed-gQ\n",
      "TOPICS:\n",
      "Long queue/wait time_positive\n",
      "Service quality_positive\n",
      "Long queue/wait time_negative\n",
      "---\n",
      "QUESTION: ChIJWfa9h6Qi2jERlrgVLn4JAe8\n",
      "TOPICS:\n",
      "Rude Customer service_negative\n",
      "Service quality_negative\n",
      "Long queue/wait time_negative\n",
      "---\n",
      "QUESTION: ChIJXTiNyrIi2jER1vY4SDJ1gCo\n",
      "TOPICS:\n",
      "Doctor/Staff/Receptionist behavior_positive\n",
      "Service quality_positive\n",
      "Doctor/Staff/Receptionist behavior_negative\n",
      "---\n",
      "QUESTION: ChIJY_X_PxI92jERr2tZ7YDdAx4\n",
      "TOPICS:\n",
      "Long queue/wait time_negative\n",
      "Doctor/Staff/Receptionist behavior_negative\n",
      "Rude Customer service_negative\n",
      "---\n",
      "QUESTION: ChIJ_-4P-ow82jERuJBbBoncXa0\n",
      "TOPICS:\n",
      "Long queue/wait time_unpleasant\n",
      "Doctor/Staff/Receptionist behavior_unpleasant\n",
      "Rude Customer service_unpleasant\n",
      "---\n",
      "QUESTION: ChIJ_7ooWcc82jERnCLrcetGzuc\n",
      "TOPICS:\n",
      "Rude Customer service_negative\n",
      "vaccination_negative\n",
      "Misdiagnosis_negative\n",
      "---\n",
      "QUESTION: ChIJ____r6YX2jERny2t0O84x90\n",
      "TOPICS:\n",
      "Service quality_negative\n",
      "Doctor/Staff/Receptionist behavior_negative\n",
      "Rude Customer service_negative\n",
      "---\n",
      "QUESTION: ChIJaTRtzNk82jERlu6VPkoABQk\n",
      "TOPICS:\n",
      "Long queue/wait time_negative\n",
      "Rude Customer service_negative\n",
      "Service quality_negative\n",
      "---\n",
      "QUESTION: ChIJbZHV_a892jERNhrm-bgNZXE\n",
      "TOPICS:\n",
      "Doctor/Staff/Receptionist behavior_negative\n",
      "Long queue/wait time_negative\n",
      "Service quality_negative\n",
      "---\n",
      "QUESTION: ChIJgbuahQ0W2jERFewIX7YbOgk\n",
      "TOPICS:\n",
      "Doctor/Staff/Receptionist behavior_negative\n",
      "Rude Customer service_negative\n",
      "Long queue/wait time_negative\n",
      "---\n",
      "QUESTION: ChIJkUm6XI082jERp0mOtK_YXGE\n",
      "TOPICS:\n",
      "Doctor/Staff/Receptionist behavior_abysmal\n",
      "Rude Customer service_abysmal\n",
      "Service quality_abysmal\n",
      "---\n",
      "QUESTION: ChIJn7DHqDcW2jERMYgjyehk7U8\n",
      "TOPICS:\n",
      "Doctor/Staff/Receptionist behavior_negative\n",
      "Long queue/wait time_negative\n",
      "Rude Customer service_negative\n",
      "---\n",
      "QUESTION: ChIJn_mqNwUW2jER8HTHiDGKPYs\n",
      "TOPICS:\n",
      "Doctor/Staff/Receptionist behavior_negative\n",
      "Service quality_negative\n",
      "Rude Customer service_negative\n",
      "---\n",
      "QUESTION: ChIJx4qtJg492jER1fGZWSuHk8A\n",
      "TOPICS:\n",
      "Doctor/Staff/Receptionist behavior_negative\n",
      "Rude Customer service_negative\n",
      "Dental treatment_negative\n",
      "---\n"
     ]
    }
   ],
   "source": [
    "for clinic in place_id_DF.place_id.tolist():\n",
    "    print(f'QUESTION: {clinic}')\n",
    "    print('TOPICS:')\n",
    "    [print(val) for val in place_id_DF[place_id_DF.place_id==clinic].TopTopics.tolist()[0]]\n",
    "    print('---')"
   ]
  },
  {
   "cell_type": "markdown",
   "metadata": {},
   "source": [
    "Join Aggregated topic-sentiments with locations:"
   ]
  },
  {
   "cell_type": "code",
   "execution_count": 150,
   "metadata": {},
   "outputs": [
    {
     "data": {
      "text/plain": [
       "(18, 4)"
      ]
     },
     "execution_count": 150,
     "metadata": {},
     "output_type": "execute_result"
    }
   ],
   "source": [
    "place_id_DF.shape"
   ]
  },
  {
   "cell_type": "code",
   "execution_count": 152,
   "metadata": {},
   "outputs": [
    {
     "data": {
      "text/plain": [
       "Index(['place_id', 'reviews', 'lat', 'lng'], dtype='object')"
      ]
     },
     "execution_count": 152,
     "metadata": {},
     "output_type": "execute_result"
    }
   ],
   "source": [
    "df_reviews.columns"
   ]
  },
  {
   "cell_type": "code",
   "execution_count": 154,
   "metadata": {},
   "outputs": [],
   "source": [
    "df_reviews = pd.read_csv(\"data/raffles_top5_reviews.csv\")\n",
    "df_reviews=df_reviews[['place_id', 'lat', 'lng']]\n",
    "df_reviews.drop_duplicates(inplace=True)\n",
    "df_join = pd.merge(place_id_DF, df_reviews, on='place_id', how='left')"
   ]
  },
  {
   "cell_type": "markdown",
   "metadata": {},
   "source": [
    "### Save results:"
   ]
  },
  {
   "cell_type": "code",
   "execution_count": 155,
   "metadata": {},
   "outputs": [
    {
     "data": {
      "text/html": [
       "<div>\n",
       "<style scoped>\n",
       "    .dataframe tbody tr th:only-of-type {\n",
       "        vertical-align: middle;\n",
       "    }\n",
       "\n",
       "    .dataframe tbody tr th {\n",
       "        vertical-align: top;\n",
       "    }\n",
       "\n",
       "    .dataframe thead th {\n",
       "        text-align: right;\n",
       "    }\n",
       "</style>\n",
       "<table border=\"1\" class=\"dataframe\">\n",
       "  <thead>\n",
       "    <tr style=\"text-align: right;\">\n",
       "      <th></th>\n",
       "      <th>place_id</th>\n",
       "      <th>TopicSentiment</th>\n",
       "      <th>reviews</th>\n",
       "      <th>TopTopics</th>\n",
       "      <th>lat</th>\n",
       "      <th>lng</th>\n",
       "    </tr>\n",
       "  </thead>\n",
       "  <tbody>\n",
       "    <tr>\n",
       "      <th>0</th>\n",
       "      <td>ChIJDQ5i_q892jEREshja_0JOeU</td>\n",
       "      <td>[Doctor/Staff/Receptionist behavior_positive, ...</td>\n",
       "      <td>Came here twice. Staff at the dental side, if ...</td>\n",
       "      <td>[Doctor/Staff/Receptionist behavior_positive, ...</td>\n",
       "      <td>1.372618</td>\n",
       "      <td>103.949543</td>\n",
       "    </tr>\n",
       "    <tr>\n",
       "      <th>1</th>\n",
       "      <td>ChIJL7ZNaFQ82jERG0nE6vQksRM</td>\n",
       "      <td>[Long queue/wait time_positive, Doctor/Staff/R...</td>\n",
       "      <td>Dr George is one of the best Dr that listened ...</td>\n",
       "      <td>[Doctor/Staff/Receptionist behavior_positive, ...</td>\n",
       "      <td>1.366480</td>\n",
       "      <td>103.964491</td>\n",
       "    </tr>\n",
       "    <tr>\n",
       "      <th>2</th>\n",
       "      <td>ChIJL_NVReMV2jERUxYmGmVoKOQ</td>\n",
       "      <td>[Long queue/wait time_negative, Rude Customer ...</td>\n",
       "      <td>Their queue system sucks . Bottleneck is not r...</td>\n",
       "      <td>[Long queue/wait time_negative, Service qualit...</td>\n",
       "      <td>1.406028</td>\n",
       "      <td>103.902254</td>\n",
       "    </tr>\n",
       "    <tr>\n",
       "      <th>3</th>\n",
       "      <td>ChIJNbUBTyI92jERJ9Cx-rO_VPU</td>\n",
       "      <td>[Doctor/Staff/Receptionist behavior_positive, ...</td>\n",
       "      <td>I came for my vaccination and it was a breeze....</td>\n",
       "      <td>[Doctor/Staff/Receptionist behavior_positive, ...</td>\n",
       "      <td>1.343062</td>\n",
       "      <td>103.953104</td>\n",
       "    </tr>\n",
       "    <tr>\n",
       "      <th>4</th>\n",
       "      <td>ChIJSetFSDYZ2jERvlUSx0ed-gQ</td>\n",
       "      <td>[Long queue/wait time_negative, Doctor/Staff/R...</td>\n",
       "      <td>I went to the clinic at 8:30 when it is suppos...</td>\n",
       "      <td>[Long queue/wait time_positive, Service qualit...</td>\n",
       "      <td>1.306457</td>\n",
       "      <td>103.904650</td>\n",
       "    </tr>\n",
       "  </tbody>\n",
       "</table>\n",
       "</div>"
      ],
      "text/plain": [
       "                      place_id  \\\n",
       "0  ChIJDQ5i_q892jEREshja_0JOeU   \n",
       "1  ChIJL7ZNaFQ82jERG0nE6vQksRM   \n",
       "2  ChIJL_NVReMV2jERUxYmGmVoKOQ   \n",
       "3  ChIJNbUBTyI92jERJ9Cx-rO_VPU   \n",
       "4  ChIJSetFSDYZ2jERvlUSx0ed-gQ   \n",
       "\n",
       "                                      TopicSentiment  \\\n",
       "0  [Doctor/Staff/Receptionist behavior_positive, ...   \n",
       "1  [Long queue/wait time_positive, Doctor/Staff/R...   \n",
       "2  [Long queue/wait time_negative, Rude Customer ...   \n",
       "3  [Doctor/Staff/Receptionist behavior_positive, ...   \n",
       "4  [Long queue/wait time_negative, Doctor/Staff/R...   \n",
       "\n",
       "                                             reviews  \\\n",
       "0  Came here twice. Staff at the dental side, if ...   \n",
       "1  Dr George is one of the best Dr that listened ...   \n",
       "2  Their queue system sucks . Bottleneck is not r...   \n",
       "3  I came for my vaccination and it was a breeze....   \n",
       "4  I went to the clinic at 8:30 when it is suppos...   \n",
       "\n",
       "                                           TopTopics       lat         lng  \n",
       "0  [Doctor/Staff/Receptionist behavior_positive, ...  1.372618  103.949543  \n",
       "1  [Doctor/Staff/Receptionist behavior_positive, ...  1.366480  103.964491  \n",
       "2  [Long queue/wait time_negative, Service qualit...  1.406028  103.902254  \n",
       "3  [Doctor/Staff/Receptionist behavior_positive, ...  1.343062  103.953104  \n",
       "4  [Long queue/wait time_positive, Service qualit...  1.306457  103.904650  "
      ]
     },
     "execution_count": 155,
     "metadata": {},
     "output_type": "execute_result"
    }
   ],
   "source": [
    "df_join.head()"
   ]
  },
  {
   "cell_type": "code",
   "execution_count": 156,
   "metadata": {},
   "outputs": [
    {
     "data": {
      "text/plain": [
       "(18, 6)"
      ]
     },
     "execution_count": 156,
     "metadata": {},
     "output_type": "execute_result"
    }
   ],
   "source": [
    "df_join.shape"
   ]
  },
  {
   "cell_type": "code",
   "execution_count": 157,
   "metadata": {},
   "outputs": [],
   "source": [
    "df_join.to_csv(\"data/review_sentiment_topics.csv\", index=False)"
   ]
  }
 ],
 "metadata": {
  "kernelspec": {
   "display_name": "Python 3",
   "language": "python",
   "name": "python3"
  },
  "language_info": {
   "codemirror_mode": {
    "name": "ipython",
    "version": 3
   },
   "file_extension": ".py",
   "mimetype": "text/x-python",
   "name": "python",
   "nbconvert_exporter": "python",
   "pygments_lexer": "ipython3",
   "version": "3.7.3"
  }
 },
 "nbformat": 4,
 "nbformat_minor": 2
}
