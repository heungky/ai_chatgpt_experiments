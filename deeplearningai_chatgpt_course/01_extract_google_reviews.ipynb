{
 "cells": [
  {
   "cell_type": "markdown",
   "metadata": {},
   "source": [
    "---\n",
    "### Objective of this notebook is to get a sample data set with the Google Users Reviews for GP clinics using Python & Google Maps API\n",
    "\n",
    "1. For this sample use case I choose to query clinics related to the Raffles Clinics. \n",
    "2. To extract user reviews, we need to get the clinics details of the location.\n",
    "3. Next, we need to find the place id of that location from place details (Step2).\n",
    "4. Next, with place_id we can extract user reviews of this place. We can get only five reviews per place unless we own the place :)\n",
    "\n",
    "---"
   ]
  },
  {
   "cell_type": "code",
   "execution_count": null,
   "metadata": {},
   "outputs": [],
   "source": [
    "#!pip install -U googlemaps"
   ]
  },
  {
   "cell_type": "code",
   "execution_count": 58,
   "metadata": {},
   "outputs": [],
   "source": [
    "import pandas as pd\n",
    "import os"
   ]
  },
  {
   "cell_type": "code",
   "execution_count": 59,
   "metadata": {},
   "outputs": [],
   "source": [
    "API_KEY = os.getenv('maps_api')\n",
    "output_filename = 'data/raffles_clinics_test.csv'"
   ]
  },
  {
   "cell_type": "markdown",
   "metadata": {},
   "source": [
    "### Get Google Reviews for Raffles Clinic"
   ]
  },
  {
   "cell_type": "code",
   "execution_count": 45,
   "metadata": {},
   "outputs": [],
   "source": [
    "import googlemaps"
   ]
  },
  {
   "cell_type": "code",
   "execution_count": 60,
   "metadata": {},
   "outputs": [],
   "source": [
    "gmaps = googlemaps.Client(key=API_KEY)"
   ]
  },
  {
   "cell_type": "markdown",
   "metadata": {},
   "source": [
    "#### Step 1: Extract places IDs for Raffles clinics\n",
    "\n",
    "We get 20 clinics (this is not a comprehencive list but based on the device location):"
   ]
  },
  {
   "cell_type": "code",
   "execution_count": 51,
   "metadata": {},
   "outputs": [
    {
     "data": {
      "text/plain": [
       "20"
      ]
     },
     "execution_count": 51,
     "metadata": {},
     "output_type": "execute_result"
    }
   ],
   "source": [
    "place_name = 'Raffles Clinic'\n",
    "place_details = gmaps.places(place_name)\n",
    "len(place_details['results'])"
   ]
  },
  {
   "cell_type": "code",
   "execution_count": 73,
   "metadata": {},
   "outputs": [
    {
     "data": {
      "text/plain": [
       "'ChIJbZHV_a892jERNhrm-bgNZXE'"
      ]
     },
     "execution_count": 73,
     "metadata": {},
     "output_type": "execute_result"
    }
   ],
   "source": [
    "place_ids = [x['place_id'] for x in place_details['results']]\n",
    "place_ids[0]"
   ]
  },
  {
   "cell_type": "markdown",
   "metadata": {},
   "source": [
    "#### Step 2: save only location and place id into a data frame:"
   ]
  },
  {
   "cell_type": "code",
   "execution_count": 68,
   "metadata": {},
   "outputs": [],
   "source": [
    "df_location = pd.DataFrame(columns=['place_id', 'lat', 'lng'])"
   ]
  },
  {
   "cell_type": "code",
   "execution_count": 69,
   "metadata": {},
   "outputs": [],
   "source": [
    "for i in range(0,len(place_details['results'])):\n",
    "    df_location.loc[i] = [place_details['results'][i]['place_id'],\n",
    "                          place_details['results'][i]['geometry']['location']['lat'],\n",
    "                          place_details['results'][i]['geometry']['location']['lng'],\n",
    "                         ]"
   ]
  },
  {
   "cell_type": "code",
   "execution_count": 70,
   "metadata": {},
   "outputs": [
    {
     "data": {
      "text/html": [
       "<div>\n",
       "<style scoped>\n",
       "    .dataframe tbody tr th:only-of-type {\n",
       "        vertical-align: middle;\n",
       "    }\n",
       "\n",
       "    .dataframe tbody tr th {\n",
       "        vertical-align: top;\n",
       "    }\n",
       "\n",
       "    .dataframe thead th {\n",
       "        text-align: right;\n",
       "    }\n",
       "</style>\n",
       "<table border=\"1\" class=\"dataframe\">\n",
       "  <thead>\n",
       "    <tr style=\"text-align: right;\">\n",
       "      <th></th>\n",
       "      <th>place_id</th>\n",
       "      <th>lat</th>\n",
       "      <th>lng</th>\n",
       "    </tr>\n",
       "  </thead>\n",
       "  <tbody>\n",
       "    <tr>\n",
       "      <th>0</th>\n",
       "      <td>ChIJbZHV_a892jERNhrm-bgNZXE</td>\n",
       "      <td>1.372692</td>\n",
       "      <td>103.949590</td>\n",
       "    </tr>\n",
       "    <tr>\n",
       "      <th>1</th>\n",
       "      <td>ChIJY_X_PxI92jERr2tZ7YDdAx4</td>\n",
       "      <td>1.354276</td>\n",
       "      <td>103.945289</td>\n",
       "    </tr>\n",
       "    <tr>\n",
       "      <th>2</th>\n",
       "      <td>ChIJL7ZNaFQ82jERG0nE6vQksRM</td>\n",
       "      <td>1.366480</td>\n",
       "      <td>103.964491</td>\n",
       "    </tr>\n",
       "    <tr>\n",
       "      <th>3</th>\n",
       "      <td>ChIJNbUBTyI92jERJ9Cx-rO_VPU</td>\n",
       "      <td>1.343062</td>\n",
       "      <td>103.953104</td>\n",
       "    </tr>\n",
       "    <tr>\n",
       "      <th>4</th>\n",
       "      <td>ChIJDQ5i_q892jEREshja_0JOeU</td>\n",
       "      <td>1.372618</td>\n",
       "      <td>103.949543</td>\n",
       "    </tr>\n",
       "    <tr>\n",
       "      <th>5</th>\n",
       "      <td>ChIJaTRtzNk82jERlu6VPkoABQk</td>\n",
       "      <td>1.335020</td>\n",
       "      <td>103.962500</td>\n",
       "    </tr>\n",
       "    <tr>\n",
       "      <th>6</th>\n",
       "      <td>ChIJXTiNyrIi2jER1vY4SDJ1gCo</td>\n",
       "      <td>1.325633</td>\n",
       "      <td>103.929022</td>\n",
       "    </tr>\n",
       "    <tr>\n",
       "      <th>7</th>\n",
       "      <td>ChIJn_mqNwUW2jER8HTHiDGKPYs</td>\n",
       "      <td>1.392256</td>\n",
       "      <td>103.904421</td>\n",
       "    </tr>\n",
       "    <tr>\n",
       "      <th>8</th>\n",
       "      <td>ChIJn7DHqDcW2jERMYgjyehk7U8</td>\n",
       "      <td>1.371255</td>\n",
       "      <td>103.893633</td>\n",
       "    </tr>\n",
       "    <tr>\n",
       "      <th>9</th>\n",
       "      <td>ChIJ_-4P-ow82jERuJBbBoncXa0</td>\n",
       "      <td>1.356716</td>\n",
       "      <td>103.986510</td>\n",
       "    </tr>\n",
       "    <tr>\n",
       "      <th>10</th>\n",
       "      <td>ChIJgbuahQ0W2jERFewIX7YbOgk</td>\n",
       "      <td>1.392412</td>\n",
       "      <td>103.895297</td>\n",
       "    </tr>\n",
       "    <tr>\n",
       "      <th>11</th>\n",
       "      <td>ChIJkUm6XI082jERp0mOtK_YXGE</td>\n",
       "      <td>1.342863</td>\n",
       "      <td>103.981665</td>\n",
       "    </tr>\n",
       "    <tr>\n",
       "      <th>12</th>\n",
       "      <td>ChIJL_NVReMV2jERUxYmGmVoKOQ</td>\n",
       "      <td>1.406028</td>\n",
       "      <td>103.902254</td>\n",
       "    </tr>\n",
       "    <tr>\n",
       "      <th>13</th>\n",
       "      <td>ChIJx4qtJg492jER1fGZWSuHk8A</td>\n",
       "      <td>1.354212</td>\n",
       "      <td>103.945035</td>\n",
       "    </tr>\n",
       "    <tr>\n",
       "      <th>14</th>\n",
       "      <td>ChIJWfa9h6Qi2jERlrgVLn4JAe8</td>\n",
       "      <td>1.312455</td>\n",
       "      <td>103.923263</td>\n",
       "    </tr>\n",
       "    <tr>\n",
       "      <th>15</th>\n",
       "      <td>ChIJ2WoTvWM92jERMwquku_Jgrs</td>\n",
       "      <td>1.349997</td>\n",
       "      <td>103.987135</td>\n",
       "    </tr>\n",
       "    <tr>\n",
       "      <th>16</th>\n",
       "      <td>ChIJ_7ooWcc82jERnCLrcetGzuc</td>\n",
       "      <td>1.338943</td>\n",
       "      <td>103.983819</td>\n",
       "    </tr>\n",
       "    <tr>\n",
       "      <th>17</th>\n",
       "      <td>ChIJ__ukuI082jERykM4v4CCYdM</td>\n",
       "      <td>1.356376</td>\n",
       "      <td>103.986504</td>\n",
       "    </tr>\n",
       "    <tr>\n",
       "      <th>18</th>\n",
       "      <td>ChIJSetFSDYZ2jERvlUSx0ed-gQ</td>\n",
       "      <td>1.306457</td>\n",
       "      <td>103.904650</td>\n",
       "    </tr>\n",
       "    <tr>\n",
       "      <th>19</th>\n",
       "      <td>ChIJ____r6YX2jERny2t0O84x90</td>\n",
       "      <td>1.350984</td>\n",
       "      <td>103.871551</td>\n",
       "    </tr>\n",
       "  </tbody>\n",
       "</table>\n",
       "</div>"
      ],
      "text/plain": [
       "                       place_id       lat         lng\n",
       "0   ChIJbZHV_a892jERNhrm-bgNZXE  1.372692  103.949590\n",
       "1   ChIJY_X_PxI92jERr2tZ7YDdAx4  1.354276  103.945289\n",
       "2   ChIJL7ZNaFQ82jERG0nE6vQksRM  1.366480  103.964491\n",
       "3   ChIJNbUBTyI92jERJ9Cx-rO_VPU  1.343062  103.953104\n",
       "4   ChIJDQ5i_q892jEREshja_0JOeU  1.372618  103.949543\n",
       "5   ChIJaTRtzNk82jERlu6VPkoABQk  1.335020  103.962500\n",
       "6   ChIJXTiNyrIi2jER1vY4SDJ1gCo  1.325633  103.929022\n",
       "7   ChIJn_mqNwUW2jER8HTHiDGKPYs  1.392256  103.904421\n",
       "8   ChIJn7DHqDcW2jERMYgjyehk7U8  1.371255  103.893633\n",
       "9   ChIJ_-4P-ow82jERuJBbBoncXa0  1.356716  103.986510\n",
       "10  ChIJgbuahQ0W2jERFewIX7YbOgk  1.392412  103.895297\n",
       "11  ChIJkUm6XI082jERp0mOtK_YXGE  1.342863  103.981665\n",
       "12  ChIJL_NVReMV2jERUxYmGmVoKOQ  1.406028  103.902254\n",
       "13  ChIJx4qtJg492jER1fGZWSuHk8A  1.354212  103.945035\n",
       "14  ChIJWfa9h6Qi2jERlrgVLn4JAe8  1.312455  103.923263\n",
       "15  ChIJ2WoTvWM92jERMwquku_Jgrs  1.349997  103.987135\n",
       "16  ChIJ_7ooWcc82jERnCLrcetGzuc  1.338943  103.983819\n",
       "17  ChIJ__ukuI082jERykM4v4CCYdM  1.356376  103.986504\n",
       "18  ChIJSetFSDYZ2jERvlUSx0ed-gQ  1.306457  103.904650\n",
       "19  ChIJ____r6YX2jERny2t0O84x90  1.350984  103.871551"
      ]
     },
     "execution_count": 70,
     "metadata": {},
     "output_type": "execute_result"
    }
   ],
   "source": [
    "df_location"
   ]
  },
  {
   "cell_type": "markdown",
   "metadata": {},
   "source": [
    "#### Step 3: Create a data frame to save top 5 reviews by place is"
   ]
  },
  {
   "cell_type": "code",
   "execution_count": 87,
   "metadata": {},
   "outputs": [],
   "source": [
    "df_review = pd.DataFrame(columns=['place_id', 'reviews'])"
   ]
  },
  {
   "cell_type": "code",
   "execution_count": null,
   "metadata": {},
   "outputs": [],
   "source": [
    "index = 0\n",
    "for i in range(0,len(place_ids)):\n",
    "    print(i)\n",
    "    place_i = gmaps.place(place_ids[i])\n",
    "    if \"reviews\" in place_i['result'].keys():\n",
    "        for j in range(0,len(place_i['result']['reviews'])):\n",
    "                   df_review.loc[index] = [place_ids[i],place_i['result']['reviews'][j]['text']]\n",
    "                   index=index+1\n",
    "\n",
    "               "
   ]
  },
  {
   "cell_type": "code",
   "execution_count": 89,
   "metadata": {},
   "outputs": [
    {
     "data": {
      "text/html": [
       "<div>\n",
       "<style scoped>\n",
       "    .dataframe tbody tr th:only-of-type {\n",
       "        vertical-align: middle;\n",
       "    }\n",
       "\n",
       "    .dataframe tbody tr th {\n",
       "        vertical-align: top;\n",
       "    }\n",
       "\n",
       "    .dataframe thead th {\n",
       "        text-align: right;\n",
       "    }\n",
       "</style>\n",
       "<table border=\"1\" class=\"dataframe\">\n",
       "  <thead>\n",
       "    <tr style=\"text-align: right;\">\n",
       "      <th></th>\n",
       "      <th>place_id</th>\n",
       "      <th>reviews</th>\n",
       "    </tr>\n",
       "  </thead>\n",
       "  <tbody>\n",
       "    <tr>\n",
       "      <th>0</th>\n",
       "      <td>ChIJbZHV_a892jERNhrm-bgNZXE</td>\n",
       "      <td>The staff is very kind and patient. Unfortunat...</td>\n",
       "    </tr>\n",
       "    <tr>\n",
       "      <th>1</th>\n",
       "      <td>ChIJbZHV_a892jERNhrm-bgNZXE</td>\n",
       "      <td>Tested positive for dengue, and the first two ...</td>\n",
       "    </tr>\n",
       "    <tr>\n",
       "      <th>2</th>\n",
       "      <td>ChIJbZHV_a892jERNhrm-bgNZXE</td>\n",
       "      <td>I wasn't very impressed with the doctor during...</td>\n",
       "    </tr>\n",
       "    <tr>\n",
       "      <th>3</th>\n",
       "      <td>ChIJbZHV_a892jERNhrm-bgNZXE</td>\n",
       "      <td>I called to only ask if I can get a medicine b...</td>\n",
       "    </tr>\n",
       "    <tr>\n",
       "      <th>4</th>\n",
       "      <td>ChIJbZHV_a892jERNhrm-bgNZXE</td>\n",
       "      <td>I wanted to scan for registration but the staf...</td>\n",
       "    </tr>\n",
       "  </tbody>\n",
       "</table>\n",
       "</div>"
      ],
      "text/plain": [
       "                      place_id  \\\n",
       "0  ChIJbZHV_a892jERNhrm-bgNZXE   \n",
       "1  ChIJbZHV_a892jERNhrm-bgNZXE   \n",
       "2  ChIJbZHV_a892jERNhrm-bgNZXE   \n",
       "3  ChIJbZHV_a892jERNhrm-bgNZXE   \n",
       "4  ChIJbZHV_a892jERNhrm-bgNZXE   \n",
       "\n",
       "                                             reviews  \n",
       "0  The staff is very kind and patient. Unfortunat...  \n",
       "1  Tested positive for dengue, and the first two ...  \n",
       "2  I wasn't very impressed with the doctor during...  \n",
       "3  I called to only ask if I can get a medicine b...  \n",
       "4  I wanted to scan for registration but the staf...  "
      ]
     },
     "execution_count": 89,
     "metadata": {},
     "output_type": "execute_result"
    }
   ],
   "source": [
    "df_review.head()"
   ]
  },
  {
   "cell_type": "markdown",
   "metadata": {},
   "source": [
    "#### Step 4: Save Results into one dataframe"
   ]
  },
  {
   "cell_type": "code",
   "execution_count": 90,
   "metadata": {},
   "outputs": [],
   "source": [
    "df = pd.merge(df_review, df_location, on='place_id', how='left')"
   ]
  },
  {
   "cell_type": "code",
   "execution_count": 91,
   "metadata": {},
   "outputs": [
    {
     "data": {
      "text/plain": [
       "(87, 4)"
      ]
     },
     "execution_count": 91,
     "metadata": {},
     "output_type": "execute_result"
    }
   ],
   "source": [
    "df.shape"
   ]
  },
  {
   "cell_type": "code",
   "execution_count": 92,
   "metadata": {},
   "outputs": [
    {
     "data": {
      "text/html": [
       "<div>\n",
       "<style scoped>\n",
       "    .dataframe tbody tr th:only-of-type {\n",
       "        vertical-align: middle;\n",
       "    }\n",
       "\n",
       "    .dataframe tbody tr th {\n",
       "        vertical-align: top;\n",
       "    }\n",
       "\n",
       "    .dataframe thead th {\n",
       "        text-align: right;\n",
       "    }\n",
       "</style>\n",
       "<table border=\"1\" class=\"dataframe\">\n",
       "  <thead>\n",
       "    <tr style=\"text-align: right;\">\n",
       "      <th></th>\n",
       "      <th>place_id</th>\n",
       "      <th>reviews</th>\n",
       "      <th>lat</th>\n",
       "      <th>lng</th>\n",
       "    </tr>\n",
       "  </thead>\n",
       "  <tbody>\n",
       "    <tr>\n",
       "      <th>0</th>\n",
       "      <td>ChIJbZHV_a892jERNhrm-bgNZXE</td>\n",
       "      <td>The staff is very kind and patient. Unfortunat...</td>\n",
       "      <td>1.372692</td>\n",
       "      <td>103.94959</td>\n",
       "    </tr>\n",
       "    <tr>\n",
       "      <th>1</th>\n",
       "      <td>ChIJbZHV_a892jERNhrm-bgNZXE</td>\n",
       "      <td>Tested positive for dengue, and the first two ...</td>\n",
       "      <td>1.372692</td>\n",
       "      <td>103.94959</td>\n",
       "    </tr>\n",
       "    <tr>\n",
       "      <th>2</th>\n",
       "      <td>ChIJbZHV_a892jERNhrm-bgNZXE</td>\n",
       "      <td>I wasn't very impressed with the doctor during...</td>\n",
       "      <td>1.372692</td>\n",
       "      <td>103.94959</td>\n",
       "    </tr>\n",
       "    <tr>\n",
       "      <th>3</th>\n",
       "      <td>ChIJbZHV_a892jERNhrm-bgNZXE</td>\n",
       "      <td>I called to only ask if I can get a medicine b...</td>\n",
       "      <td>1.372692</td>\n",
       "      <td>103.94959</td>\n",
       "    </tr>\n",
       "    <tr>\n",
       "      <th>4</th>\n",
       "      <td>ChIJbZHV_a892jERNhrm-bgNZXE</td>\n",
       "      <td>I wanted to scan for registration but the staf...</td>\n",
       "      <td>1.372692</td>\n",
       "      <td>103.94959</td>\n",
       "    </tr>\n",
       "  </tbody>\n",
       "</table>\n",
       "</div>"
      ],
      "text/plain": [
       "                      place_id  \\\n",
       "0  ChIJbZHV_a892jERNhrm-bgNZXE   \n",
       "1  ChIJbZHV_a892jERNhrm-bgNZXE   \n",
       "2  ChIJbZHV_a892jERNhrm-bgNZXE   \n",
       "3  ChIJbZHV_a892jERNhrm-bgNZXE   \n",
       "4  ChIJbZHV_a892jERNhrm-bgNZXE   \n",
       "\n",
       "                                             reviews       lat        lng  \n",
       "0  The staff is very kind and patient. Unfortunat...  1.372692  103.94959  \n",
       "1  Tested positive for dengue, and the first two ...  1.372692  103.94959  \n",
       "2  I wasn't very impressed with the doctor during...  1.372692  103.94959  \n",
       "3  I called to only ask if I can get a medicine b...  1.372692  103.94959  \n",
       "4  I wanted to scan for registration but the staf...  1.372692  103.94959  "
      ]
     },
     "execution_count": 92,
     "metadata": {},
     "output_type": "execute_result"
    }
   ],
   "source": [
    "df.head()"
   ]
  },
  {
   "cell_type": "markdown",
   "metadata": {},
   "source": [
    "##### Save Results to csv."
   ]
  },
  {
   "cell_type": "code",
   "execution_count": 93,
   "metadata": {},
   "outputs": [],
   "source": [
    "df.to_csv('data/raffles_top5_reviews.csv', index=False)"
   ]
  },
  {
   "cell_type": "markdown",
   "metadata": {},
   "source": [
    "#### Next Step we will analyse the reviews with OpenAI api"
   ]
  }
 ],
 "metadata": {
  "kernelspec": {
   "display_name": "Python 3",
   "language": "python",
   "name": "python3"
  },
  "language_info": {
   "codemirror_mode": {
    "name": "ipython",
    "version": 3
   },
   "file_extension": ".py",
   "mimetype": "text/x-python",
   "name": "python",
   "nbconvert_exporter": "python",
   "pygments_lexer": "ipython3",
   "version": "3.7.3"
  }
 },
 "nbformat": 4,
 "nbformat_minor": 2
}
